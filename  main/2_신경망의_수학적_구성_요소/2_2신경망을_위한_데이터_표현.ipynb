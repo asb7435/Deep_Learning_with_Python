{
  "nbformat": 4,
  "nbformat_minor": 0,
  "metadata": {
    "colab": {
      "private_outputs": true,
      "provenance": [],
      "authorship_tag": "ABX9TyPQcOAMD8zoNHKtnDMX2Mnu",
      "include_colab_link": true
    },
    "kernelspec": {
      "name": "python3",
      "display_name": "Python 3"
    },
    "language_info": {
      "name": "python"
    }
  },
  "cells": [
    {
      "cell_type": "markdown",
      "metadata": {
        "id": "view-in-github",
        "colab_type": "text"
      },
      "source": [
        "<a href=\"https://colab.research.google.com/github/asb7435/Deep_Learning_with_Python/blob/main/%20main/2_%EC%8B%A0%EA%B2%BD%EB%A7%9D%EC%9D%98_%EC%88%98%ED%95%99%EC%A0%81_%EA%B5%AC%EC%84%B1_%EC%9A%94%EC%86%8C/2_2%EC%8B%A0%EA%B2%BD%EB%A7%9D%EC%9D%84_%EC%9C%84%ED%95%9C_%EB%8D%B0%EC%9D%B4%ED%84%B0_%ED%91%9C%ED%98%84.ipynb\" target=\"_parent\"><img src=\"https://colab.research.google.com/assets/colab-badge.svg\" alt=\"Open In Colab\"/></a>"
      ]
    },
    {
      "cell_type": "code",
      "execution_count": null,
      "metadata": {
        "id": "Hjhkg-ZqgPvH"
      },
      "outputs": [],
      "source": [
        "# 스칼라(랭크-0 텐서)\n",
        "import numpy as np\n",
        "x = np.array(12)\n",
        "print(x)\n",
        "print(x.ndim) # 넘파이 배열의 축 개수 확인"
      ]
    },
    {
      "cell_type": "code",
      "source": [
        "# 벡터(랭크-1 텐서)\n",
        "x = np.array([12, 3, 6, 14, 7])\n",
        "print(x)\n",
        "print(x.ndim)"
      ],
      "metadata": {
        "id": "Aj7kCcOJgnfE"
      },
      "execution_count": null,
      "outputs": []
    },
    {
      "cell_type": "code",
      "source": [
        "# 행렬(랭크-2 텐서)\n",
        "x = np.array([[5, 78, 2, 34, 0],\n",
        "             [6, 79, 3, 35,1],\n",
        "             [7,80, 4, 2, 36]])\n",
        "\n",
        "print(x.ndim)"
      ],
      "metadata": {
        "id": "odwKfvHCgnhQ"
      },
      "execution_count": null,
      "outputs": []
    },
    {
      "cell_type": "code",
      "source": [
        "# 랭크-3 텐서와 더 높은 랭크의 텐서\n",
        "x = np.array([[[5, 78, 2, 34, 0],\n",
        "             [6, 79, 3, 35,1],\n",
        "             [7,80, 4, 2, 36]],\n",
        "             [[5, 78, 2, 34, 0],\n",
        "             [6, 79, 3, 35,1],\n",
        "             [7,80, 4, 2, 36]],\n",
        "            [[5, 78, 2, 34, 0],\n",
        "             [6, 79, 3, 35,1],\n",
        "             [7,80, 4, 2, 36]]])\n",
        "\n",
        "print(x.ndim)\n"
      ],
      "metadata": {
        "id": "MPYReO1gv6Uf"
      },
      "execution_count": null,
      "outputs": []
    },
    {
      "cell_type": "code",
      "source": [
        "from tensorflow.keras.datasets import mnist\n",
        "(train_images, train_labels),(test_images, test_labels) = mnist.load_data()"
      ],
      "metadata": {
        "id": "G2VUAcufwgAS"
      },
      "execution_count": null,
      "outputs": []
    },
    {
      "cell_type": "code",
      "source": [
        "train_images.ndim"
      ],
      "metadata": {
        "id": "QD5GXODGwgII"
      },
      "execution_count": null,
      "outputs": []
    },
    {
      "cell_type": "code",
      "source": [
        "train_images.shape # 28 * 28 크기의 정수 행렬 6만개"
      ],
      "metadata": {
        "id": "Jy_c__VLZRPc"
      },
      "execution_count": null,
      "outputs": []
    },
    {
      "cell_type": "code",
      "source": [
        "train_images.dtype"
      ],
      "metadata": {
        "id": "T4mmrK5iZRWC"
      },
      "execution_count": null,
      "outputs": []
    },
    {
      "cell_type": "code",
      "source": [
        "# 다섯 번째 이미지 출력하기\n",
        "import matplotlib.pyplot as plt\n",
        "\n",
        "digit = train_images[4]\n",
        "plt.imshow(digit, cmap=plt.cm.binary)\n",
        "plt.show()"
      ],
      "metadata": {
        "id": "kXHZPacbZenO"
      },
      "execution_count": null,
      "outputs": []
    },
    {
      "cell_type": "code",
      "source": [
        "train_labels[4]"
      ],
      "metadata": {
        "id": "gxSiox-0Z4NY"
      },
      "execution_count": null,
      "outputs": []
    },
    {
      "cell_type": "code",
      "source": [
        "my_slice = train_images[10:100]\n",
        "my_slice.shape\n",
        "digit = my_slice[4]\n",
        "plt.imshow(digit, cmap=plt.cm.binary)\n",
        "plt.show()"
      ],
      "metadata": {
        "id": "uJL41ojNZ80K"
      },
      "execution_count": null,
      "outputs": []
    },
    {
      "cell_type": "code",
      "source": [
        "my_slice = train_images[10:100, :,:]\n",
        "my_slice.shape\n"
      ],
      "metadata": {
        "id": "MkB9HDIvZ83u"
      },
      "execution_count": null,
      "outputs": []
    },
    {
      "cell_type": "code",
      "source": [
        "my_slice = train_images[10:100,0:28,0:28]\n",
        "my_slice.shape"
      ],
      "metadata": {
        "id": "WF54AP06aqQB"
      },
      "execution_count": null,
      "outputs": []
    },
    {
      "cell_type": "code",
      "source": [
        "my_slice = train_images[:,14:,14:]\n",
        "my_slice.shape"
      ],
      "metadata": {
        "id": "R0NWnJ1TavvF"
      },
      "execution_count": null,
      "outputs": []
    },
    {
      "cell_type": "code",
      "source": [
        "my_slice = train_images[:,7:-7,7:-7]\n",
        "my_slice.shape\n"
      ],
      "metadata": {
        "id": "iaAi_lqMa9G6"
      },
      "execution_count": null,
      "outputs": []
    },
    {
      "cell_type": "code",
      "source": [
        "batch = train_images[:128]"
      ],
      "metadata": {
        "id": "v5YTHaOIa7Nn"
      },
      "execution_count": null,
      "outputs": []
    },
    {
      "cell_type": "code",
      "source": [
        "batch = train_images[128:256]"
      ],
      "metadata": {
        "id": "Iyn6Rwx2bs_x"
      },
      "execution_count": null,
      "outputs": []
    },
    {
      "cell_type": "code",
      "source": [
        "n = 3\n",
        "batch = train_images[128 * n:128 * ( n + 1)]"
      ],
      "metadata": {
        "id": "rGebj8Qob7Od"
      },
      "execution_count": null,
      "outputs": []
    },
    {
      "cell_type": "code",
      "source": [],
      "metadata": {
        "id": "McLtuLpHb7RF"
      },
      "execution_count": null,
      "outputs": []
    },
    {
      "cell_type": "code",
      "source": [],
      "metadata": {
        "id": "E40IuMNSb7UE"
      },
      "execution_count": null,
      "outputs": []
    }
  ]
}